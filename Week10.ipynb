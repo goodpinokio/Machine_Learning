{
 "cells": [
  {
   "cell_type": "code",
   "execution_count": 2,
   "id": "6cfe8963",
   "metadata": {},
   "outputs": [],
   "source": [
    "from tensorflow import keras\n",
    "from sklearn.model_selection import train_test_split\n",
    "from keras.layers import Dense, Activation\n",
    "\n",
    "(train_input, train_target),(test_input, test_target) =keras.datasets.fashion_mnist.load_data()\n",
    "\n",
    "train_scaled = train_input.reshape(-1,28,28,1)/255.0\n",
    "\n",
    "train_scaled,val_scaled,train_target,val_target = train_test_split(\n",
    "train_scaled,train_target,test_size=0.2,random_state=42)"
   ]
  },
  {
   "cell_type": "code",
   "execution_count": 3,
   "id": "c970ba31",
   "metadata": {},
   "outputs": [],
   "source": [
    "model = keras.Sequential()\n",
    "model.add(keras.layers.Conv2D(32,kernel_size=3, activation='relu',padding = 'same',input_shape=(28,28,1)))\n",
    "model.add(keras.layers.MaxPooling2D(2))"
   ]
  },
  {
   "cell_type": "code",
   "execution_count": 4,
   "id": "d51dcc51",
   "metadata": {},
   "outputs": [],
   "source": [
    "model.add(keras.layers.Conv2D(64,kernel_size=(3,3), activation='relu',padding='same'))\n",
    "model.add(keras.layers.MaxPooling2D(2))\n",
    "\n",
    "model.add(keras.layers.Flatten())\n",
    "model.add(keras.layers.Dense(100,activation='relu'))\n",
    "model.add(keras.layers.Dropout(0.4))\n",
    "model.add(keras.layers.Dense(10,activation='softmax'))\n",
    "\n"
   ]
  },
  {
   "cell_type": "code",
   "execution_count": 7,
   "id": "21680f9b",
   "metadata": {},
   "outputs": [
    {
     "name": "stdout",
     "output_type": "stream",
     "text": [
      "Epoch 1/20\n",
      "1500/1500 [==============================] - 10s 7ms/step - loss: 0.5343 - accuracy: 0.8064 - val_loss: 0.3396 - val_accuracy: 0.8744\n",
      "Epoch 2/20\n",
      "1500/1500 [==============================] - 10s 7ms/step - loss: 0.3532 - accuracy: 0.8719 - val_loss: 0.2909 - val_accuracy: 0.8934\n",
      "Epoch 3/20\n",
      "1500/1500 [==============================] - 10s 7ms/step - loss: 0.3021 - accuracy: 0.8908 - val_loss: 0.2667 - val_accuracy: 0.8999\n",
      "Epoch 4/20\n",
      "1500/1500 [==============================] - 10s 7ms/step - loss: 0.2726 - accuracy: 0.8997 - val_loss: 0.2473 - val_accuracy: 0.9063\n",
      "Epoch 5/20\n",
      "1500/1500 [==============================] - 11s 7ms/step - loss: 0.2457 - accuracy: 0.9097 - val_loss: 0.2375 - val_accuracy: 0.9127\n",
      "Epoch 6/20\n",
      "1500/1500 [==============================] - 10s 7ms/step - loss: 0.2306 - accuracy: 0.9153 - val_loss: 0.2206 - val_accuracy: 0.9202\n",
      "Epoch 7/20\n",
      "1500/1500 [==============================] - 11s 7ms/step - loss: 0.2121 - accuracy: 0.9216 - val_loss: 0.2227 - val_accuracy: 0.9174\n",
      "Epoch 8/20\n",
      "1500/1500 [==============================] - 10s 7ms/step - loss: 0.1973 - accuracy: 0.9261 - val_loss: 0.2207 - val_accuracy: 0.9160\n"
     ]
    }
   ],
   "source": [
    "model.compile(optimizer='adam',loss='sparse_categorical_crossentropy',metrics='accuracy')\n",
    "\n",
    "checkpoint_cb = keras.callbacks.ModelCheckpoint('best-cnn-model.h5')\n",
    "early_stopping_cb = keras.callbacks.EarlyStopping(patience=2,restore_best_weights=True)\n",
    "\n",
    "history = model.fit(train_scaled,train_target,epochs=20,\n",
    "                   validation_data=(val_scaled,val_target),\n",
    "                   callbacks=[checkpoint_cb,early_stopping_cb])"
   ]
  },
  {
   "cell_type": "code",
   "execution_count": 9,
   "id": "54026a23",
   "metadata": {},
   "outputs": [
    {
     "name": "stdout",
     "output_type": "stream",
     "text": [
      "375/375 [==============================] - 1s 2ms/step - loss: 0.2206 - accuracy: 0.9202\n"
     ]
    },
    {
     "data": {
      "image/png": "[encoded data removed]",
      "text/plain": [
       "<Figure size 640x480 with 1 Axes>"
      ]
     },
     "metadata": {},
     "output_type": "display_data"
    },
    {
     "name": "stdout",
     "output_type": "stream",
     "text": [
      "1/1 [==============================] - 0s 60ms/step\n",
      "[[3.5959442e-14 9.8162412e-23 7.8403735e-18 8.6090413e-15 3.6385871e-15\n",
      "  3.7009318e-18 1.6986758e-17 2.3366196e-15 1.0000000e+00 4.7635403e-19]]\n"
     ]
    }
   ],
   "source": [
    "import matplotlib.pyplot as plt\n",
    "\n",
    "model.evaluate(val_scaled,val_target)\n",
    "plt.imshow(val_scaled[0].reshape(28,28),cmap='gray_r')\n",
    "plt.show()\n",
    "\n",
    "preds = model.predict(val_scaled[0:1])\n",
    "print(preds)\n"
   ]
  },
  {
   "cell_type": "code",
   "execution_count": 10,
   "id": "98da7b0e",
   "metadata": {},
   "outputs": [
    {
     "name": "stdout",
     "output_type": "stream",
     "text": [
      "313/313 [==============================] - 1s 2ms/step - loss: 0.2432 - accuracy: 0.9131\n"
     ]
    },
    {
     "data": {
      "text/plain": [
       "[0.24315442144870758, 0.913100004196167]"
      ]
     },
     "execution_count": 10,
     "metadata": {},
     "output_type": "execute_result"
    }
   ],
   "source": [
    "test_scaled = test_input.reshape(-1,28,28,1)/255.0\n",
    "model.evaluate(test_scaled,test_target)"
   ]
  }
 ],
 "metadata": {
  "kernelspec": {
   "display_name": "Python 3 (ipykernel)",
   "language": "python",
   "name": "python3"
  },
  "language_info": {
   "codemirror_mode": {
    "name": "ipython",
    "version": 3
   },
   "file_extension": ".py",
   "mimetype": "text/x-python",
   "name": "python",
   "nbconvert_exporter": "python",
   "pygments_lexer": "ipython3",
   "version": "3.8.16"
  }
 },
 "nbformat": 4,
 "nbformat_minor": 5
}
