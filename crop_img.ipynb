{
 "cells": [
  {
   "cell_type": "code",
   "execution_count": 22,
   "id": "d3a94c32",
   "metadata": {},
   "outputs": [],
   "source": [
    "import pandas as pd\n",
    "import numpy as np\n",
    "import cv2, os, gc\n",
    "\n",
    "from glob import glob\n",
    "##from tqdm import tqdm\n",
    "from tqdm.notebook import tqdm\n",
    "\n",
    "import torch\n",
    "\n",
    "import matplotlib\n",
    "import matplotlib.pyplot as plt\n",
    "\n",
    "import os\n",
    "import gc\n",
    "import tqdm\n",
    "import copy\n",
    "from PIL import Image\n",
    "import torch\n",
    "from sklearn.cluster import KMeans\n",
    "import cv2\n",
    "import numpy as np\n",
    "import matplotlib.pyplot as plt"
   ]
  },
  {
   "cell_type": "code",
   "execution_count": 9,
   "id": "4631b892",
   "metadata": {
    "scrolled": true
   },
   "outputs": [
    {
     "name": "stdout",
     "output_type": "stream",
     "text": [
      "<class 'pandas.core.frame.DataFrame'>\n",
      "RangeIndex: 54659 entries, 0 to 54658\n",
      "Data columns (total 22 columns):\n",
      " #   Column                   Non-Null Count  Dtype \n",
      "---  ------                   --------------  ----- \n",
      " 0   Unnamed: 0               54659 non-null  int64 \n",
      " 1   Unnamed: 0.1             54659 non-null  int64 \n",
      " 2   site_id                  54659 non-null  int64 \n",
      " 3   patient_id               54659 non-null  int64 \n",
      " 4   image_id                 54659 non-null  int64 \n",
      " 5   laterality               54659 non-null  object\n",
      " 6   view                     54659 non-null  int64 \n",
      " 7   age                      54659 non-null  int64 \n",
      " 8   cancer                   54659 non-null  int64 \n",
      " 9   biopsy                   54659 non-null  int64 \n",
      " 10  invasive                 54659 non-null  int64 \n",
      " 11  BIRADS                   54659 non-null  int64 \n",
      " 12  implant                  54659 non-null  int64 \n",
      " 13  density                  54659 non-null  int64 \n",
      " 14  machine_id               54659 non-null  int64 \n",
      " 15  difficult_negative_case  54659 non-null  int64 \n",
      " 16  x                        54659 non-null  int64 \n",
      " 17  y                        54659 non-null  int64 \n",
      " 18  w                        54659 non-null  int64 \n",
      " 19  h                        54659 non-null  int64 \n",
      " 20  split                    54659 non-null  int64 \n",
      " 21  img_name                 54659 non-null  object\n",
      "dtypes: int64(20), object(2)\n",
      "memory usage: 9.2+ MB\n"
     ]
    }
   ],
   "source": [
    "df = pd.read_csv('train_withbox_split_clean_encode.csv')\n",
    "df['img_name'] = df.apply(lambda row: f\"img/{row.patient_id}_{row.image_id}.png\", axis=1)\n",
    "\n",
    "df.info()"
   ]
  },
  {
   "cell_type": "code",
   "execution_count": null,
   "id": "505b3eae",
   "metadata": {},
   "outputs": [
    {
     "name": "stderr",
     "output_type": "stream",
     "text": [
      "  1%|█                                                                          | 729/54659 [16:18<20:36:51,  1.38s/it]"
     ]
    }
   ],
   "source": [
    "device = torch.device('cuda' if torch.cuda.is_available() else 'cpu')\n",
    "\n",
    "def kmeans_set_zero(img, dsize=(320,512), num_clusters=4):\n",
    "    # flatten the image\n",
    "    img_1d = img.reshape(-1,1)\n",
    "     \n",
    "    # apply kmeans\n",
    "    kmeans = KMeans(n_clusters=num_clusters, random_state=0).fit(img_1d)\n",
    "    cluster_ids_x = kmeans.labels_\n",
    "    cluster_centers = kmeans.cluster_centers_\n",
    "\n",
    "    smallest_sum = np.inf\n",
    "    smallest_id = 0\n",
    "    for cluster_id in range(num_clusters):\n",
    "        cluster_sum = img_1d[cluster_ids_x == cluster_id].sum() / (100000)\n",
    "        if cluster_sum < smallest_sum:\n",
    "            smallest_sum = cluster_sum\n",
    "            smallest_id = cluster_id\n",
    "\n",
    "    img_1d[cluster_ids_x == smallest_id] = 0    \n",
    "    kmeans_img = img_1d.reshape(dsize)\n",
    "    return kmeans_img\n",
    "\n",
    "def extraxtor_from_roi_box(d, frame, dsize=(512, 320), num_clusters=4):\n",
    "\n",
    "    h, w = frame.shape\n",
    "    org_dsize = (h, w)\n",
    "\n",
    "    frame = kmeans_set_zero(frame, dsize=org_dsize, num_clusters=num_clusters)\n",
    "    frame_org = copy.copy(frame)\n",
    "\n",
    "    thres1 = np.min(frame) + 68\n",
    "    np.place(frame, frame < thres1, 0)\n",
    "\n",
    "    thres2 = frame_org.sum() / (h * w)\n",
    "    vertical_not_zero = [True if frame[:, idx].sum() > thres2 else False for idx in range(w)]\n",
    "    horizontal_not_zero = [True if frame[idx, :].sum() > thres2 else False for idx in range(h)]\n",
    "\n",
    "    crop = frame_org[horizontal_not_zero, :]\n",
    "    crop = crop[:, vertical_not_zero]\n",
    "\n",
    "    crop = cv2.resize(crop, dsize=dsize, interpolation=cv2.INTER_LINEAR)\n",
    "\n",
    "    return crop\n",
    "\n",
    "dsize = (320, 512)\n",
    "org_images = []\n",
    "images = []\n",
    "num = 5\n",
    "\n",
    "for idx in tqdm.tqdm(range(len(df))):\n",
    "    d = df.iloc[idx]\n",
    "    img_file = d.img_name\n",
    "    frame = cv2.imread(img_file, cv2.IMREAD_GRAYSCALE)\n",
    "    org_frame = frame.copy()\n",
    "    crop = extraxtor_from_roi_box(d, frame, dsize=dsize)\n",
    "    org_images.append(org_frame)\n",
    "    images.append(crop)\n",
    "\n",
    "    new_img_name = os.path.join('image/', f\"{d.patient_id}_{d.image_id}.png\")\n",
    "    im = Image.fromarray(crop)\n",
    "    im.save(new_img_name)\n",
    "\n",
    "fig, axes = plt.subplots(num, num, figsize=(20, 20))\n",
    "for idx, image in enumerate(org_images):\n",
    "    i = idx % num\n",
    "    j = idx // num\n",
    "    axes[i, j].imshow(image)\n",
    "\n",
    "plt.subplots_adjust(wspace=0, hspace=.2)\n",
    "plt.title(\"Original Images\")\n",
    "plt.show()\n",
    "\n",
    "fig, axes = plt.subplots(num, num, figsize=(20, 20))\n",
    "for idx, image in enumerate(images):\n",
    "    i = idx % num\n",
    "    j = idx // num\n",
    "    axes[i, j].imshow(image)\n",
    "\n",
    "plt.subplots_adjust(wspace=0, hspace=.2)\n",
    "plt.title(\"Cropped Images\")\n",
    "plt.show()\n",
    "\n",
    "del frame, crop, images, image\n",
    "gc.collect()\n"
   ]
  },
  {
   "cell_type": "code",
   "execution_count": 14,
   "id": "4227e038",
   "metadata": {},
   "outputs": [
    {
     "name": "stdout",
     "output_type": "stream",
     "text": [
      "Name: torchvision\n",
      "Version: 0.14.1\n",
      "Summary: image and video datasets and models for torch deep learning\n",
      "Home-page: https://github.com/pytorch/vision\n",
      "Author: PyTorch Core Team\n",
      "Author-email: soumith@pytorch.org\n",
      "License: BSD\n",
      "Location: c:\\anaconda\\envs\\ss\\lib\\site-packages\n",
      "Requires: numpy, pillow, requests, torch, typing-extensions\n",
      "Required-by: \n",
      "Note: you may need to restart the kernel to use updated packages.\n"
     ]
    }
   ],
   "source": [
    "pip show torchvision\n"
   ]
  },
  {
   "cell_type": "code",
   "execution_count": null,
   "id": "6fa63e31",
   "metadata": {},
   "outputs": [],
   "source": []
  }
 ],
 "metadata": {
  "kernelspec": {
   "display_name": "Python 3 (ipykernel)",
   "language": "python",
   "name": "python3"
  },
  "language_info": {
   "codemirror_mode": {
    "name": "ipython",
    "version": 3
   },
   "file_extension": ".py",
   "mimetype": "text/x-python",
   "name": "python",
   "nbconvert_exporter": "python",
   "pygments_lexer": "ipython3",
   "version": "3.7.16"
  }
 },
 "nbformat": 4,
 "nbformat_minor": 5
}
