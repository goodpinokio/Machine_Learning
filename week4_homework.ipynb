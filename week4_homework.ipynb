{
 "cells": [
  {
   "cell_type": "code",
   "execution_count": 1,
   "id": "013384aa",
   "metadata": {},
   "outputs": [],
   "source": [
    "import pandas as pd\n",
    "import matplotlib.pyplot as plt\n",
    "import numpy as np\n",
    "from sklearn.model_selection import train_test_split\n",
    "from sklearn.linear_model import LinearRegression\n",
    "from sklearn.metrics import r2_score\n",
    "from sklearn.preprocessing import PolynomialFeatures"
   ]
  },
  {
   "cell_type": "code",
   "execution_count": 2,
   "id": "05e25948",
   "metadata": {},
   "outputs": [],
   "source": [
    "#엑셀파일 읽어 오기\n",
    "fp = pd.read_excel(\"fp.xlsx\",header=1)\n",
    "ep = pd.read_excel(\"ep.xlsx\",header=1)"
   ]
  },
  {
   "cell_type": "code",
   "execution_count": 3,
   "id": "7b47eae9",
   "metadata": {},
   "outputs": [
    {
     "data": {
      "text/html": [
       "<div>\n",
       "<style scoped>\n",
       "    .dataframe tbody tr th:only-of-type {\n",
       "        vertical-align: middle;\n",
       "    }\n",
       "\n",
       "    .dataframe tbody tr th {\n",
       "        vertical-align: top;\n",
       "    }\n",
       "\n",
       "    .dataframe thead th {\n",
       "        text-align: right;\n",
       "    }\n",
       "</style>\n",
       "<table border=\"1\" class=\"dataframe\">\n",
       "  <thead>\n",
       "    <tr style=\"text-align: right;\">\n",
       "      <th></th>\n",
       "      <th>기간</th>\n",
       "      <th>원자력</th>\n",
       "      <th>유연탄</th>\n",
       "      <th>무연탄</th>\n",
       "      <th>유류</th>\n",
       "      <th>LNG</th>\n",
       "      <th>원자력.1</th>\n",
       "      <th>유연탄.1</th>\n",
       "      <th>무연탄.1</th>\n",
       "      <th>유류.1</th>\n",
       "      <th>LNG.1</th>\n",
       "      <th>원자력.2</th>\n",
       "      <th>유연탄.2</th>\n",
       "      <th>무연탄.2</th>\n",
       "      <th>유류.2</th>\n",
       "      <th>LNG.2</th>\n",
       "    </tr>\n",
       "  </thead>\n",
       "  <tbody>\n",
       "    <tr>\n",
       "      <th>0</th>\n",
       "      <td>2023/02</td>\n",
       "      <td>6.360</td>\n",
       "      <td>293231.499</td>\n",
       "      <td>198334.083</td>\n",
       "      <td>1282790.000</td>\n",
       "      <td>1979548.670</td>\n",
       "      <td>2560.790</td>\n",
       "      <td>54110.050</td>\n",
       "      <td>41857.5</td>\n",
       "      <td>140279.322</td>\n",
       "      <td>151816.526</td>\n",
       "      <td>6.360</td>\n",
       "      <td>120.412</td>\n",
       "      <td>105.981</td>\n",
       "      <td>331.060</td>\n",
       "      <td>266.344</td>\n",
       "    </tr>\n",
       "    <tr>\n",
       "      <th>1</th>\n",
       "      <td>2023/01</td>\n",
       "      <td>6.360</td>\n",
       "      <td>306051.518</td>\n",
       "      <td>209345.089</td>\n",
       "      <td>1468224.580</td>\n",
       "      <td>1918688.304</td>\n",
       "      <td>2559.286</td>\n",
       "      <td>56891.443</td>\n",
       "      <td>47125.5</td>\n",
       "      <td>160489.946</td>\n",
       "      <td>147230.182</td>\n",
       "      <td>6.360</td>\n",
       "      <td>126.430</td>\n",
       "      <td>119.319</td>\n",
       "      <td>379.015</td>\n",
       "      <td>258.667</td>\n",
       "    </tr>\n",
       "    <tr>\n",
       "      <th>2</th>\n",
       "      <td>2022/12</td>\n",
       "      <td>6.368</td>\n",
       "      <td>328455.927</td>\n",
       "      <td>209214.252</td>\n",
       "      <td>1477537.510</td>\n",
       "      <td>1976708.988</td>\n",
       "      <td>2566.794</td>\n",
       "      <td>61854.066</td>\n",
       "      <td>44311.5</td>\n",
       "      <td>161972.124</td>\n",
       "      <td>151718.183</td>\n",
       "      <td>6.368</td>\n",
       "      <td>137.572</td>\n",
       "      <td>112.194</td>\n",
       "      <td>381.051</td>\n",
       "      <td>266.790</td>\n",
       "    </tr>\n",
       "    <tr>\n",
       "      <th>3</th>\n",
       "      <td>2022/11</td>\n",
       "      <td>6.370</td>\n",
       "      <td>295558.650</td>\n",
       "      <td>201385.222</td>\n",
       "      <td>1452600.455</td>\n",
       "      <td>1998426.807</td>\n",
       "      <td>2567.882</td>\n",
       "      <td>56400.131</td>\n",
       "      <td>43587.0</td>\n",
       "      <td>159000.565</td>\n",
       "      <td>153802.183</td>\n",
       "      <td>6.370</td>\n",
       "      <td>125.277</td>\n",
       "      <td>110.359</td>\n",
       "      <td>373.958</td>\n",
       "      <td>270.375</td>\n",
       "    </tr>\n",
       "    <tr>\n",
       "      <th>4</th>\n",
       "      <td>2022/10</td>\n",
       "      <td>6.367</td>\n",
       "      <td>305296.466</td>\n",
       "      <td>168023.211</td>\n",
       "      <td>1520785.049</td>\n",
       "      <td>1975472.425</td>\n",
       "      <td>2566.785</td>\n",
       "      <td>57603.469</td>\n",
       "      <td>47613.5</td>\n",
       "      <td>165930.149</td>\n",
       "      <td>151874.832</td>\n",
       "      <td>6.367</td>\n",
       "      <td>127.965</td>\n",
       "      <td>120.554</td>\n",
       "      <td>390.623</td>\n",
       "      <td>267.254</td>\n",
       "    </tr>\n",
       "  </tbody>\n",
       "</table>\n",
       "</div>"
      ],
      "text/plain": [
       "        기간    원자력         유연탄         무연탄           유류          LNG     원자력.1  \\\n",
       "0  2023/02  6.360  293231.499  198334.083  1282790.000  1979548.670  2560.790   \n",
       "1  2023/01  6.360  306051.518  209345.089  1468224.580  1918688.304  2559.286   \n",
       "2  2022/12  6.368  328455.927  209214.252  1477537.510  1976708.988  2566.794   \n",
       "3  2022/11  6.370  295558.650  201385.222  1452600.455  1998426.807  2567.882   \n",
       "4  2022/10  6.367  305296.466  168023.211  1520785.049  1975472.425  2566.785   \n",
       "\n",
       "       유연탄.1    무연탄.1        유류.1       LNG.1  원자력.2    유연탄.2    무연탄.2  \\\n",
       "0  54110.050  41857.5  140279.322  151816.526  6.360  120.412  105.981   \n",
       "1  56891.443  47125.5  160489.946  147230.182  6.360  126.430  119.319   \n",
       "2  61854.066  44311.5  161972.124  151718.183  6.368  137.572  112.194   \n",
       "3  56400.131  43587.0  159000.565  153802.183  6.370  125.277  110.359   \n",
       "4  57603.469  47613.5  165930.149  151874.832  6.367  127.965  120.554   \n",
       "\n",
       "      유류.2    LNG.2  \n",
       "0  331.060  266.344  \n",
       "1  379.015  258.667  \n",
       "2  381.051  266.790  \n",
       "3  373.958  270.375  \n",
       "4  390.623  267.254  "
      ]
     },
     "execution_count": 3,
     "metadata": {},
     "output_type": "execute_result"
    }
   ],
   "source": [
    "fp.head()"
   ]
  },
  {
   "cell_type": "code",
   "execution_count": 4,
   "id": "ce46d5f0",
   "metadata": {},
   "outputs": [
    {
     "data": {
      "text/html": [
       "<div>\n",
       "<style scoped>\n",
       "    .dataframe tbody tr th:only-of-type {\n",
       "        vertical-align: middle;\n",
       "    }\n",
       "\n",
       "    .dataframe tbody tr th {\n",
       "        vertical-align: top;\n",
       "    }\n",
       "\n",
       "    .dataframe thead th {\n",
       "        text-align: right;\n",
       "    }\n",
       "</style>\n",
       "<table border=\"1\" class=\"dataframe\">\n",
       "  <thead>\n",
       "    <tr style=\"text-align: right;\">\n",
       "      <th></th>\n",
       "      <th>기간</th>\n",
       "      <th>육지</th>\n",
       "      <th>제주</th>\n",
       "      <th>통합</th>\n",
       "      <th>Unnamed: 4</th>\n",
       "    </tr>\n",
       "  </thead>\n",
       "  <tbody>\n",
       "    <tr>\n",
       "      <th>0</th>\n",
       "      <td>2023/02</td>\n",
       "      <td>253.48</td>\n",
       "      <td>260.27</td>\n",
       "      <td>253.56</td>\n",
       "      <td>0.0</td>\n",
       "    </tr>\n",
       "    <tr>\n",
       "      <th>1</th>\n",
       "      <td>2023/01</td>\n",
       "      <td>240.73</td>\n",
       "      <td>247.55</td>\n",
       "      <td>240.81</td>\n",
       "      <td>0.0</td>\n",
       "    </tr>\n",
       "    <tr>\n",
       "      <th>2</th>\n",
       "      <td>2022/12</td>\n",
       "      <td>267.55</td>\n",
       "      <td>275.15</td>\n",
       "      <td>267.63</td>\n",
       "      <td>0.0</td>\n",
       "    </tr>\n",
       "    <tr>\n",
       "      <th>3</th>\n",
       "      <td>2022/11</td>\n",
       "      <td>242.17</td>\n",
       "      <td>243.97</td>\n",
       "      <td>242.19</td>\n",
       "      <td>0.0</td>\n",
       "    </tr>\n",
       "    <tr>\n",
       "      <th>4</th>\n",
       "      <td>2022/10</td>\n",
       "      <td>251.61</td>\n",
       "      <td>255.03</td>\n",
       "      <td>251.65</td>\n",
       "      <td>0.0</td>\n",
       "    </tr>\n",
       "  </tbody>\n",
       "</table>\n",
       "</div>"
      ],
      "text/plain": [
       "        기간      육지      제주      통합  Unnamed: 4\n",
       "0  2023/02  253.48  260.27  253.56         0.0\n",
       "1  2023/01  240.73  247.55  240.81         0.0\n",
       "2  2022/12  267.55  275.15  267.63         0.0\n",
       "3  2022/11  242.17  243.97  242.19         0.0\n",
       "4  2022/10  251.61  255.03  251.65         0.0"
      ]
     },
     "execution_count": 4,
     "metadata": {},
     "output_type": "execute_result"
    }
   ],
   "source": [
    "ep.head()"
   ]
  },
  {
   "cell_type": "code",
   "execution_count": 5,
   "id": "e833955c",
   "metadata": {},
   "outputs": [
    {
     "name": "stdout",
     "output_type": "stream",
     "text": [
      "<class 'pandas.core.frame.DataFrame'>\n",
      "RangeIndex: 263 entries, 0 to 262\n",
      "Data columns (total 16 columns):\n",
      " #   Column  Non-Null Count  Dtype  \n",
      "---  ------  --------------  -----  \n",
      " 0   기간      263 non-null    object \n",
      " 1   원자력     263 non-null    float64\n",
      " 2   유연탄     263 non-null    float64\n",
      " 3   무연탄     263 non-null    float64\n",
      " 4   유류      263 non-null    float64\n",
      " 5   LNG     263 non-null    float64\n",
      " 6   원자력.1   263 non-null    float64\n",
      " 7   유연탄.1   263 non-null    float64\n",
      " 8   무연탄.1   263 non-null    float64\n",
      " 9   유류.1    263 non-null    float64\n",
      " 10  LNG.1   263 non-null    float64\n",
      " 11  원자력.2   263 non-null    float64\n",
      " 12  유연탄.2   263 non-null    float64\n",
      " 13  무연탄.2   263 non-null    float64\n",
      " 14  유류.2    263 non-null    float64\n",
      " 15  LNG.2   263 non-null    float64\n",
      "dtypes: float64(15), object(1)\n",
      "memory usage: 33.0+ KB\n",
      "None\n",
      "<class 'pandas.core.frame.DataFrame'>\n",
      "RangeIndex: 263 entries, 0 to 262\n",
      "Data columns (total 5 columns):\n",
      " #   Column      Non-Null Count  Dtype  \n",
      "---  ------      --------------  -----  \n",
      " 0   기간          263 non-null    object \n",
      " 1   육지          263 non-null    float64\n",
      " 2   제주          263 non-null    float64\n",
      " 3   통합          263 non-null    float64\n",
      " 4   Unnamed: 4  263 non-null    float64\n",
      "dtypes: float64(4), object(1)\n",
      "memory usage: 10.4+ KB\n",
      "None\n"
     ]
    }
   ],
   "source": [
    "print(fp.info())\n",
    "print(ep.info())"
   ]
  },
  {
   "cell_type": "code",
   "execution_count": 6,
   "id": "ff248d27",
   "metadata": {},
   "outputs": [],
   "source": [
    "\n",
    "#fp 열 제거\n",
    "fp = fp.drop(columns=['기간','원자력','유연탄','무연탄','유류','LNG','원자력.1','유연탄.1','무연탄.1','유류.1','LNG.1'])\n",
    "\n",
    "# ep 열 제거\n",
    "ep = ep.drop(columns=['기간','육지','제주','Unnamed: 4'])"
   ]
  },
  {
   "cell_type": "code",
   "execution_count": 7,
   "id": "65a30a37",
   "metadata": {},
   "outputs": [
    {
     "name": "stdout",
     "output_type": "stream",
     "text": [
      "<class 'pandas.core.frame.DataFrame'>\n",
      "RangeIndex: 263 entries, 0 to 262\n",
      "Data columns (total 5 columns):\n",
      " #   Column  Non-Null Count  Dtype  \n",
      "---  ------  --------------  -----  \n",
      " 0   원자력.2   263 non-null    float64\n",
      " 1   유연탄.2   263 non-null    float64\n",
      " 2   무연탄.2   263 non-null    float64\n",
      " 3   유류.2    263 non-null    float64\n",
      " 4   LNG.2   263 non-null    float64\n",
      "dtypes: float64(5)\n",
      "memory usage: 10.4 KB\n",
      "None\n",
      "<class 'pandas.core.frame.DataFrame'>\n",
      "RangeIndex: 263 entries, 0 to 262\n",
      "Data columns (total 1 columns):\n",
      " #   Column  Non-Null Count  Dtype  \n",
      "---  ------  --------------  -----  \n",
      " 0   통합      263 non-null    float64\n",
      "dtypes: float64(1)\n",
      "memory usage: 2.2 KB\n",
      "None\n"
     ]
    }
   ],
   "source": [
    "print(fp.info())\n",
    "print(ep.info())"
   ]
  },
  {
   "cell_type": "code",
   "execution_count": 8,
   "id": "72d57a51",
   "metadata": {},
   "outputs": [
    {
     "data": {
      "text/html": [
       "<div>\n",
       "<style scoped>\n",
       "    .dataframe tbody tr th:only-of-type {\n",
       "        vertical-align: middle;\n",
       "    }\n",
       "\n",
       "    .dataframe tbody tr th {\n",
       "        vertical-align: top;\n",
       "    }\n",
       "\n",
       "    .dataframe thead th {\n",
       "        text-align: right;\n",
       "    }\n",
       "</style>\n",
       "<table border=\"1\" class=\"dataframe\">\n",
       "  <thead>\n",
       "    <tr style=\"text-align: right;\">\n",
       "      <th></th>\n",
       "      <th>원자력.2</th>\n",
       "      <th>유연탄.2</th>\n",
       "      <th>무연탄.2</th>\n",
       "      <th>유류.2</th>\n",
       "      <th>LNG.2</th>\n",
       "    </tr>\n",
       "  </thead>\n",
       "  <tbody>\n",
       "    <tr>\n",
       "      <th>0</th>\n",
       "      <td>6.360</td>\n",
       "      <td>120.412</td>\n",
       "      <td>105.981</td>\n",
       "      <td>331.060</td>\n",
       "      <td>266.344</td>\n",
       "    </tr>\n",
       "    <tr>\n",
       "      <th>1</th>\n",
       "      <td>6.360</td>\n",
       "      <td>126.430</td>\n",
       "      <td>119.319</td>\n",
       "      <td>379.015</td>\n",
       "      <td>258.667</td>\n",
       "    </tr>\n",
       "    <tr>\n",
       "      <th>2</th>\n",
       "      <td>6.368</td>\n",
       "      <td>137.572</td>\n",
       "      <td>112.194</td>\n",
       "      <td>381.051</td>\n",
       "      <td>266.790</td>\n",
       "    </tr>\n",
       "    <tr>\n",
       "      <th>3</th>\n",
       "      <td>6.370</td>\n",
       "      <td>125.277</td>\n",
       "      <td>110.359</td>\n",
       "      <td>373.958</td>\n",
       "      <td>270.375</td>\n",
       "    </tr>\n",
       "    <tr>\n",
       "      <th>4</th>\n",
       "      <td>6.367</td>\n",
       "      <td>127.965</td>\n",
       "      <td>120.554</td>\n",
       "      <td>390.623</td>\n",
       "      <td>267.254</td>\n",
       "    </tr>\n",
       "  </tbody>\n",
       "</table>\n",
       "</div>"
      ],
      "text/plain": [
       "   원자력.2    유연탄.2    무연탄.2     유류.2    LNG.2\n",
       "0  6.360  120.412  105.981  331.060  266.344\n",
       "1  6.360  126.430  119.319  379.015  258.667\n",
       "2  6.368  137.572  112.194  381.051  266.790\n",
       "3  6.370  125.277  110.359  373.958  270.375\n",
       "4  6.367  127.965  120.554  390.623  267.254"
      ]
     },
     "execution_count": 8,
     "metadata": {},
     "output_type": "execute_result"
    }
   ],
   "source": [
    "fp.head()"
   ]
  },
  {
   "cell_type": "code",
   "execution_count": 9,
   "id": "c9abec11",
   "metadata": {},
   "outputs": [
    {
     "data": {
      "text/html": [
       "<div>\n",
       "<style scoped>\n",
       "    .dataframe tbody tr th:only-of-type {\n",
       "        vertical-align: middle;\n",
       "    }\n",
       "\n",
       "    .dataframe tbody tr th {\n",
       "        vertical-align: top;\n",
       "    }\n",
       "\n",
       "    .dataframe thead th {\n",
       "        text-align: right;\n",
       "    }\n",
       "</style>\n",
       "<table border=\"1\" class=\"dataframe\">\n",
       "  <thead>\n",
       "    <tr style=\"text-align: right;\">\n",
       "      <th></th>\n",
       "      <th>통합</th>\n",
       "    </tr>\n",
       "  </thead>\n",
       "  <tbody>\n",
       "    <tr>\n",
       "      <th>0</th>\n",
       "      <td>253.56</td>\n",
       "    </tr>\n",
       "    <tr>\n",
       "      <th>1</th>\n",
       "      <td>240.81</td>\n",
       "    </tr>\n",
       "    <tr>\n",
       "      <th>2</th>\n",
       "      <td>267.63</td>\n",
       "    </tr>\n",
       "    <tr>\n",
       "      <th>3</th>\n",
       "      <td>242.19</td>\n",
       "    </tr>\n",
       "    <tr>\n",
       "      <th>4</th>\n",
       "      <td>251.65</td>\n",
       "    </tr>\n",
       "  </tbody>\n",
       "</table>\n",
       "</div>"
      ],
      "text/plain": [
       "       통합\n",
       "0  253.56\n",
       "1  240.81\n",
       "2  267.63\n",
       "3  242.19\n",
       "4  251.65"
      ]
     },
     "execution_count": 9,
     "metadata": {},
     "output_type": "execute_result"
    }
   ],
   "source": [
    "ep.head()"
   ]
  },
  {
   "cell_type": "code",
   "execution_count": 10,
   "id": "358ae752",
   "metadata": {},
   "outputs": [],
   "source": [
    "train_input, test_input, train_target, test_target = train_test_split(fp, ep, test_size=0.2, random_state=42)"
   ]
  },
  {
   "cell_type": "code",
   "execution_count": 11,
   "id": "e4a097eb",
   "metadata": {},
   "outputs": [
    {
     "name": "stdout",
     "output_type": "stream",
     "text": [
      "(210, 251)\n"
     ]
    }
   ],
   "source": [
    "from sklearn.preprocessing import PolynomialFeatures\n",
    "\n",
    "poly = PolynomialFeatures(degree=5,include_bias=False)\n",
    "\n",
    "poly.fit(train_input)\n",
    "\n",
    "train_poly = poly.transform(train_input)\n",
    "test_poly = poly.transform(test_input)\n",
    "\n",
    "print(train_poly.shape)"
   ]
  },
  {
   "cell_type": "code",
   "execution_count": 12,
   "id": "0ab74d4e",
   "metadata": {},
   "outputs": [
    {
     "name": "stdout",
     "output_type": "stream",
     "text": [
      "0.999994295773063\n",
      "-1336292120.6715884\n"
     ]
    }
   ],
   "source": [
    "#선형 회귀 모델 훈련\n",
    "lr = LinearRegression()\n",
    "lr.fit(train_poly, train_target)\n",
    "\n",
    "print(lr.score(train_poly,train_target))\n",
    "print(lr.score(test_poly,test_target))"
   ]
  },
  {
   "cell_type": "code",
   "execution_count": 13,
   "id": "f463144d",
   "metadata": {},
   "outputs": [],
   "source": [
    "from sklearn.preprocessing import StandardScaler\n",
    "\n",
    "ss = StandardScaler()\n",
    "ss.fit(train_poly)\n",
    "\n",
    "train_scaled = ss.transform(train_poly)\n",
    "test_scaled = ss.transform(test_poly)\n"
   ]
  },
  {
   "cell_type": "code",
   "execution_count": 14,
   "id": "8b23d6b4",
   "metadata": {},
   "outputs": [
    {
     "name": "stdout",
     "output_type": "stream",
     "text": [
      "0.9760285106553324\n",
      "-0.09075654786382747\n"
     ]
    }
   ],
   "source": [
    "from sklearn.linear_model import Ridge\n",
    "\n",
    "ridge = Ridge()\n",
    "ridge.fit(train_scaled, train_target)\n",
    "\n",
    "print(ridge.score(train_scaled,train_target))\n",
    "\n",
    "print(ridge.score(test_scaled,test_target))\n"
   ]
  },
  {
   "cell_type": "code",
   "execution_count": 15,
   "id": "7f1578c8",
   "metadata": {},
   "outputs": [
    {
     "data": {
      "image/png": "[encoded data removed]",
      "text/plain": [
       "<Figure size 640x480 with 1 Axes>"
      ]
     },
     "metadata": {},
     "output_type": "display_data"
    }
   ],
   "source": [
    "alpha_list = [ 1,10,100,1000,10000]\n",
    "train_score=[]\n",
    "test_score=[]\n",
    "\n",
    "for alpha in alpha_list:\n",
    "    ridge = Ridge(alpha=alpha)\n",
    "    ridge.fit(train_scaled,train_target)\n",
    "    train_score.append(ridge.score(train_scaled, train_target))\n",
    "    test_score.append(ridge.score(test_scaled,test_target))\n",
    "    \n",
    "plt.plot(np.log10(alpha_list), train_score)\n",
    "plt.plot(np.log10(alpha_list), test_score)\n",
    "plt.xlabel('alpha')\n",
    "plt.ylabel('R^2')\n",
    "plt.show()"
   ]
  },
  {
   "cell_type": "code",
   "execution_count": 16,
   "id": "9e8734f9",
   "metadata": {},
   "outputs": [
    {
     "name": "stdout",
     "output_type": "stream",
     "text": [
      "0.954129573097824\n",
      "0.9612471473726204\n"
     ]
    }
   ],
   "source": [
    "ridge = Ridge(alpha = 100)\n",
    "ridge.fit(train_scaled,train_target)\n",
    "\n",
    "print(ridge.score(train_scaled, train_target))\n",
    "print(ridge.score(test_scaled,test_target))\n"
   ]
  },
  {
   "cell_type": "code",
   "execution_count": 20,
   "id": "70d82bb3",
   "metadata": {},
   "outputs": [
    {
     "name": "stdout",
     "output_type": "stream",
     "text": [
      "0.96674701976974\n",
      "0.9716419713197966\n"
     ]
    }
   ],
   "source": [
    "from sklearn.linear_model import Lasso\n",
    "\n",
    "lasso = Lasso(alpha=1)\n",
    "lasso.fit(train_scaled,train_target)\n",
    "\n",
    "print(lasso.score(train_scaled, train_target))\n",
    "print(lasso.score(test_scaled,test_target))"
   ]
  },
  {
   "cell_type": "code",
   "execution_count": null,
   "id": "50e25863",
   "metadata": {},
   "outputs": [],
   "source": []
  }
 ],
 "metadata": {
  "kernelspec": {
   "display_name": "Python 3 (ipykernel)",
   "language": "python",
   "name": "python3"
  },
  "language_info": {
   "codemirror_mode": {
    "name": "ipython",
    "version": 3
   },
   "file_extension": ".py",
   "mimetype": "text/x-python",
   "name": "python",
   "nbconvert_exporter": "python",
   "pygments_lexer": "ipython3",
   "version": "3.8.16"
  }
 },
 "nbformat": 4,
 "nbformat_minor": 5
}
